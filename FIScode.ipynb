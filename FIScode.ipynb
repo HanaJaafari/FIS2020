{
 "cells": [
  {
   "cell_type": "code",
   "execution_count": null,
   "metadata": {},
   "outputs": [],
   "source": [
    "import requests as rq\n",
    "import pandas as pd \n",
    "import numpy as np "
   ]
  },
  {
   "cell_type": "markdown",
   "metadata": {},
   "source": [
    "## Creating the Psicube dataframe"
   ]
  },
  {
   "cell_type": "code",
   "execution_count": null,
   "metadata": {},
   "outputs": [],
   "source": [
    "url = 'http://pseudogene.org/psicube/data/psidr/psiDR-HUMAN-April2014.txt' \n",
    "r = rq.get(url) #request to get the url\n",
    "open('pseudogene.txt', 'wb').write(r.content) #download url in current directory, save as \"pseudogene.txt\"\n",
    "df = pd.read_csv('pseudogene.txt', sep = '\\s+', engine='python', header=[16]) "
   ]
  },
  {
   "cell_type": "markdown",
   "metadata": {},
   "source": [
    "## Parsing Psicube for the resurrected pseudogenes"
   ]
  },
  {
   "cell_type": "code",
   "execution_count": null,
   "metadata": {},
   "outputs": [],
   "source": [
    "target = df.loc[df['Activity_features'] == 'Tnx_1:Pol2_1:AC_1:TF_1'].copy() #target values are the ones with the specfied activity feature\n",
    "target.to_csv('targetdata.txt', index=None, sep='\\t') "
   ]
  },
  {
   "cell_type": "markdown",
   "metadata": {},
   "source": [
    "## Mapping the Pseudo Pipe ID and Protein Families"
   ]
  },
  {
   "cell_type": "code",
   "execution_count": null,
   "metadata": {},
   "outputs": [],
   "source": [
    "ppipe = pd.read_csv('PPipe.txt', sep='\\s+', engine='python', header=[0]) #information with the pseudopipe ID\n",
    "pfam = pd.read_csv('martquery_0618213934_745.txt', header=[0])\n",
    "ppipe = ppipe.rename(columns={\"EnsemblID.version\": \"#Pseudogene_id\"}) #changes Ensemble id version column to pseudogene id\n",
    "pfam = biosmart.rename(columns={'Transcript stable ID version' : 'Parent_transcript'}) #Changes Transcript ID to Parent Transcript\n",
    "combined = pd.merge(target, ppipe, how='left', on=\"#Pseudogene_id\")\n",
    "combined = pd.merge(combined, pfam, on ='Parent_transcript', how='left') \n",
    "combined.to_csv('combined_data.txt', index=None, sep='\\t') \n",
    "combined = combined.replace(np.nan, 'N/A', regex=True) #replaces NaN with N/A\n",
    "combined"
   ]
  },
  {
   "cell_type": "code",
   "execution_count": null,
   "metadata": {},
   "outputs": [],
   "source": []
  }
 ],
 "metadata": {
  "kernelspec": {
   "display_name": "Python 3",
   "language": "python",
   "name": "python3"
  },
  "language_info": {
   "codemirror_mode": {
    "name": "ipython",
    "version": 3
   },
   "file_extension": ".py",
   "mimetype": "text/x-python",
   "name": "python",
   "nbconvert_exporter": "python",
   "pygments_lexer": "ipython3",
   "version": "3.7.6"
  }
 },
 "nbformat": 4,
 "nbformat_minor": 4
}
